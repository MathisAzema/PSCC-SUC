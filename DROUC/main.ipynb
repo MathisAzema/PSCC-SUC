{
 "cells": [
  {
   "cell_type": "code",
   "execution_count": 2,
   "id": "aa30cbe6",
   "metadata": {},
   "outputs": [
    {
     "name": "stdout",
     "output_type": "stream",
     "text": [
      "Set parameter Username\n",
      "Set parameter LicenseID to value 2658456\n",
      "Academic license - for non-commercial use only - expires 2026-04-28\n"
     ]
    },
    {
     "data": {
      "text/plain": [
       "#11 (generic function with 1 method)"
      ]
     },
     "metadata": {},
     "output_type": "display_data"
    }
   ],
   "source": [
    "using Revise, UC, JuMP, Gurobi, Statistics\n",
    "const GRB_ENV = Gurobi.Env()\n",
    "optimizer=() -> Gurobi.Optimizer(GRB_ENV)"
   ]
  },
  {
   "cell_type": "code",
   "execution_count": 35,
   "id": "f1b27e67",
   "metadata": {},
   "outputs": [
    {
     "data": {
      "text/plain": [
       "2"
      ]
     },
     "metadata": {},
     "output_type": "display_data"
    }
   ],
   "source": [
    "# instance=UC.parse_IEEE_JEAS(\"118_syst_JEAS\",  optimizer; N1=35, NumWind=91); instance.N1\n",
    "instance=UC.parse_IEEE_JEAS(\"6bus_JEAS\",  optimizer; N1=2, NumWind=3); instance.N1"
   ]
  },
  {
   "cell_type": "code",
   "execution_count": 44,
   "id": "3de6aecd",
   "metadata": {},
   "outputs": [
    {
     "name": "stdout",
     "output_type": "stream",
     "text": [
      "Set parameter Threads to value 1\n",
      "Set parameter TimeLimit to value 5.9999996900558472e+01\n",
      "Set parameter LazyConstraints to value 1\n",
      "Set parameter MIPGap to value 0.001\n",
      "Set parameter LazyConstraints to value 1\n",
      "Set parameter MIPGap to value 0.001\n",
      "Set parameter Threads to value 1\n",
      "Set parameter TimeLimit to value 5.9999996900558472e+01\n",
      "Gurobi Optimizer version 12.0.2 build v12.0.2rc0 (linux64 - \"Ubuntu 22.04.5 LTS\")\n",
      "\n",
      "CPU model: Intel(R) Core(TM) Ultra 9 185H, instruction set [SSE2|AVX|AVX2]\n",
      "Thread count: 22 physical cores, 22 logical processors, using up to 1 threads\n",
      "\n",
      "Non-default parameters:\n",
      "TimeLimit  5.9999996900558472e+01\n",
      "MIPGap  0.001\n",
      "Threads  1\n",
      "LazyConstraints  1\n",
      "\n",
      "Optimize a model with 714 rows, 441 columns and 2145 nonzeros\n",
      "Model fingerprint: 0xde72b559\n",
      "Variable types: 222 continuous, 219 integer (219 binary)\n",
      "Coefficient statistics:\n",
      "  Matrix range     [1e+00, 2e+02]\n",
      "  Objective range  [1e+00, 1e+00]\n",
      "  Bounds range     [0e+00, 0e+00]\n",
      "  RHS range        [1e+00, 2e+02]\n",
      "Presolve removed 337 rows and 169 columns\n",
      "Presolve time: 0.00s\n",
      "Presolved: 377 rows, 272 columns, 1479 nonzeros\n",
      "Variable types: 76 continuous, 196 integer (196 binary)\n",
      "\n",
      "Root relaxation: objective 6.365892e+04, 147 iterations, 0.00 seconds (0.00 work units)\n",
      "\n",
      "    Nodes    |    Current Node    |     Objective Bounds      |     Work\n",
      " Expl Unexpl |  Obj  Depth IntInf | Incumbent    BestBd   Gap | It/Node Time\n",
      "\n",
      "     0     0 63658.9238    0   45          - 63658.9238      -     -    0s\n",
      "H    0     0                    3437670.3410 63658.9238  98.1%     -    0s\n",
      "H    0     0                    91550.725768 63658.9238  30.5%     -    0s\n",
      "     0     0 77614.1824    0   50 91550.7258 77614.1824  15.2%     -    0s\n",
      "H    0     0                    88287.787848 77827.5938  11.8%     -    0s\n",
      "     0     0 79934.0414    0   23 88287.7878 79934.0414  9.46%     -    0s\n",
      "H    0     0                    85463.925026 79950.1557  6.45%     -    0s\n",
      "H    0     0                    81948.501660 79950.1557  2.44%     -    0s\n",
      "     0     0          -    0      81948.5017 81878.6878  0.09%     -    0s\n",
      "\n",
      "Cutting planes:\n",
      "  Gomory: 2\n",
      "  Cover: 6\n",
      "  Implied bound: 6\n",
      "  Clique: 5\n",
      "  MIR: 26\n",
      "  Flow cover: 10\n",
      "  Relax-and-lift: 18\n",
      "  Lazy constraints: 90\n",
      "\n",
      "Explored 1 nodes (330 simplex iterations) in 0.64 seconds (0.02 work units)\n",
      "Thread count was 1 (of 22 available processors)\n",
      "\n",
      "Solution count 5: 81948.5 85463.9 88287.8 ... 3.43767e+06\n",
      "\n",
      "Optimal solution found (tolerance 1.00e-03)\n",
      "Best objective 8.194850166030e+04, best bound 8.187868778945e+04, gap 0.0852%\n",
      "\n",
      "User-callback calls 417, time in user-callback 0.61 sec\n"
     ]
    },
    {
     "data": {
      "text/plain": [
       "(\"IEEE3\", 0.6391041278839111, 81948.50166030292, 81878.68778944766, UC.first_stage([180.0 152.9553247042264 … 182.30493900271816 181.95478701004146; 20.0 10.0 … 0.0 0.0], [1 1 … 1 1; 1 1 … 0 0; 0 1 … 1 1], [0 0 … 0 0; 0 0 … 0 0; 1 0 … 0 0], [0 0 … 0 0; 0 1 … 0 0; 0 0 … 0 0]), Any[0.0277707576751709, 0.02592182159423828, 0.030489683151245117, 0.02949237823486328, 0.0654456615447998, 0.045348167419433594, 0.06332898139953613, 0.06267094612121582, 0.06660127639770508, 0.06109619140625, 0.06097722053527832, 0.058959007263183594])"
      ]
     },
     "metadata": {},
     "output_type": "display_data"
    }
   ],
   "source": [
    "resROBD1=UC.benders_RO(instance, UC.BD_RO_DCA; silent = false, force=1.0, Γ=1, gap=0.1, timelimit=60, iter=20)"
   ]
  },
  {
   "cell_type": "code",
   "execution_count": 42,
   "id": "f981d7f5",
   "metadata": {},
   "outputs": [
    {
     "name": "stdout",
     "output_type": "stream",
     "text": [
      "Set parameter Threads to value 1\n",
      "Set parameter TimeLimit to value 5.9999998092651367e+01\n",
      "Set parameter LazyConstraints to value 1\n",
      "Set parameter MIPGap to value 0.001\n",
      "Set parameter LazyConstraints to value 1\n",
      "Set parameter MIPGap to value 0.001\n",
      "Set parameter Threads to value 1\n",
      "Set parameter TimeLimit to value 5.9999998092651367e+01\n",
      "Gurobi Optimizer version 12.0.2 build v12.0.2rc0 (linux64 - \"Ubuntu 22.04.5 LTS\")\n",
      "\n",
      "CPU model: Intel(R) Core(TM) Ultra 9 185H, instruction set [SSE2|AVX|AVX2]\n",
      "Thread count: 22 physical cores, 22 logical processors, using up to 1 threads\n",
      "\n",
      "Non-default parameters:\n",
      "TimeLimit  5.9999998092651367e+01\n",
      "MIPGap  0.001\n",
      "Threads  1\n",
      "LazyConstraints  1\n",
      "\n",
      "Optimize a model with 714 rows, 441 columns and 2145 nonzeros\n",
      "Model fingerprint: 0xde72b559\n",
      "Variable types: 222 continuous, 219 integer (219 binary)\n",
      "Coefficient statistics:\n",
      "  Matrix range     [1e+00, 2e+02]\n",
      "  Objective range  [1e+00, 1e+00]\n",
      "  Bounds range     [0e+00, 0e+00]\n",
      "  RHS range        [1e+00, 2e+02]\n",
      "Presolve removed 337 rows and 169 columns\n",
      "Presolve time: 0.00s\n",
      "Presolved: 377 rows, 272 columns, 1479 nonzeros\n",
      "Variable types: 76 continuous, 196 integer (196 binary)\n",
      "\n",
      "Root relaxation: objective 6.365892e+04, 147 iterations, 0.00 seconds (0.00 work units)\n",
      "\n",
      "    Nodes    |    Current Node    |     Objective Bounds      |     Work\n",
      " Expl Unexpl |  Obj  Depth IntInf | Incumbent    BestBd   Gap | It/Node Time\n",
      "\n",
      "     0     0 63658.9238    0   45          - 63658.9238      -     -    0s\n",
      "H    0     0                    3437678.9286 63658.9238  98.1%     -    0s\n",
      "H    0     0                    91581.078323 63658.9238  30.5%     -    0s\n",
      "     0     0 77613.1300    0   50 91581.0783 77613.1300  15.3%     -    0s\n",
      "H    0     0                    88318.140403 77826.5415  11.9%     -    0s\n",
      "     0     0 79966.8189    0   21 88318.1404 79966.8189  9.46%     -    0s\n",
      "H    0     0                    85494.277581 79982.9332  6.45%     -    0s\n",
      "H    0     0                    81978.854216 79982.9332  2.43%     -    0s\n",
      "     0     0          -    0      81978.8542 81898.4269  0.10%     -    1s\n",
      "\n",
      "Cutting planes:\n",
      "  Gomory: 2\n",
      "  Cover: 6\n",
      "  Implied bound: 6\n",
      "  Clique: 5\n",
      "  MIR: 25\n",
      "  Flow cover: 11\n",
      "  Relax-and-lift: 18\n",
      "  Lazy constraints: 92\n",
      "\n",
      "Explored 1 nodes (329 simplex iterations) in 1.00 seconds (0.03 work units)\n",
      "Thread count was 1 (of 22 available processors)\n",
      "\n",
      "Solution count 5: 81978.9 85494.3 88318.1 ... 3.43768e+06\n",
      "\n",
      "Optimal solution found (tolerance 1.00e-03)\n",
      "Best objective 8.197885421552e+04, best bound 8.189842692857e+04, gap 0.0981%\n",
      "\n",
      "User-callback calls 420, time in user-callback 0.98 sec\n"
     ]
    },
    {
     "data": {
      "text/plain": [
       "(\"IEEE3\", 1.0049080848693848, 81978.85421551754, 81898.42692857292, UC.first_stage([180.0 152.95532470422648 … 182.3049390027182 181.95478701004146; 20.0 10.0 … 0.0 0.0], [1 1 … 1 1; 1 1 … 0 0; 0 1 … 1 1], [0 0 … 0 0; 0 0 … 0 0; 1 0 … 0 0], [0 0 … 0 0; 0 1 … 0 0; 0 0 … 0 0]), Any[0.010541915893554688, 0.010467052459716797, 0.014772176742553711, 0.01373600959777832, 0.01577591896057129, 0.09363102912902832, 0.04126691818237305, 0.12367916107177734, 0.12310409545898438, 0.12897300720214844, 0.1298079490661621, 0.1299130916595459, 0.13346004486083984])"
      ]
     },
     "metadata": {},
     "output_type": "display_data"
    }
   ],
   "source": [
    "resROBD2=UC.benders_RO(instance, UC.BD_RO_MILP; silent = false, force=1.0, Γ=1, gap=0.1, timelimit=60, iter=20)"
   ]
  },
  {
   "cell_type": "code",
   "execution_count": 34,
   "id": "075104e6",
   "metadata": {},
   "outputs": [
    {
     "name": "stdout",
     "output_type": "stream",
     "text": [
      "[(15, 1), (54, 1), (59, 1), (80, 1), (15, 2), (54, 2), (59, 2), (80, 2), (15, 3), (54, 3), (59, 3), (80, 3), (15, 4), (54, 4), (59, 4), (80, 4), (15, 5), (54, 5), (59, 5), (80, 5), (15, 6), (54, 6), (59, 6), (80, 6), (15, 7), (54, 7), (59, 7), (80, 7), (15, 8), (54, 8), (59, 8), (80, 8), (15, 9), (54, 9), (59, 9), (80, 9), (15, 10), (54, 10), (59, 10), (80, 10), (15, 11), (54, 11), (59, 11), (80, 11), (15, 12), (54, 12), (59, 12), (80, 12), (15, 13), (54, 13), (59, 13), (80, 13), (15, 14), (54, 14), (59, 14), (80, 14), (15, 15), (54, 15), (59, 15), (80, 15), (15, 16), (54, 16), (59, 16), (80, 16), (15, 17), (54, 17), (59, 17), (80, 17), (15, 18), (54, 18), (59, 18), (80, 18), (15, 19), (54, 19), (59, 19), (80, 19), (15, 20), (54, 20), (59, 20), (80, 20), (15, 21), (54, 21), (59, 21), (80, 21), (15, 22), (54, 22), (59, 22), (80, 22), (15, 23), (54, 23), (59, 23), (80, 23), (15, 24), (54, 24), (59, 24), (80, 24)]\n",
      "Tuple{Int64, Int64}[]\n",
      "(1.0e9, 1.235875228486925e8)\n",
      "(1, 27873.36399999261, 1.235875228486925e8, 99.97744645789679)\n",
      "Tuple{Int64, Int64}[]\n",
      "[(15, 1), (54, 1), (59, 1), (80, 1), (15, 2), (54, 2), (59, 2), (80, 2), (15, 3), (54, 3), (59, 3), (80, 3), (15, 4), (54, 4), (59, 4), (80, 4), (15, 5), (54, 5), (59, 5), (80, 5), (15, 6), (54, 6), (59, 6), (80, 6), (15, 7), (54, 7), (59, 7), (80, 7), (15, 8), (54, 8), (59, 8), (80, 8), (15, 9), (54, 9), (59, 9), (80, 9), (15, 10), (54, 10), (59, 10), (80, 10), (15, 11), (54, 11), (59, 11), (80, 11), (15, 12), (54, 12), (59, 12), (80, 12), (15, 13), (54, 13), (59, 13), (80, 13), (15, 14), (54, 14), (59, 14), (80, 14), (15, 15), (54, 15), (59, 15), (80, 15), (15, 16), (54, 16), (59, 16), (80, 16), (15, 17), (54, 17), (59, 17), (80, 17), (15, 18), (54, 18), (59, 18), (80, 18), (15, 19), (54, 19), (59, 19), (80, 19), (15, 20), (54, 20), (59, 20), (80, 20), (15, 21), (54, 21), (59, 21), (80, 21), (15, 22), (54, 22), (59, 22), (80, 22), (15, 23), (54, 23), (59, 23), (80, 23), (15, 24), (54, 24), (59, 24), (80, 24)]\n",
      "(1.235875228486925e8, 3.5014861848467845e6)\n",
      "(2, 1.5801682484312712e6, 3.5014861848467845e6, 54.871498414881934)\n",
      "[(15, 1), (54, 1), (59, 1), (80, 1), (15, 2), (54, 2), (59, 2), (80, 2), (15, 3), (54, 3), (59, 3), (80, 3), (15, 4), (54, 4), (59, 4), (80, 4), (15, 5), (54, 5), (59, 5), (80, 5), (15, 6), (54, 6), (59, 6), (80, 6), (15, 7), (54, 7), (59, 7), (80, 7), (15, 8), (54, 8), (59, 8), (80, 8), (15, 9), (54, 9), (59, 9), (80, 9), (15, 10), (54, 10), (59, 10), (80, 10), (15, 11), (54, 11), (59, 11), (80, 11), (15, 12), (54, 12), (59, 12), (80, 12), (15, 13), (54, 13), (59, 13), (80, 13), (15, 14), (54, 14), (59, 14), (80, 14), (15, 15), (54, 15), (59, 15), (80, 15), (15, 16), (54, 16), (59, 16), (80, 16), (15, 17), (54, 17), (59, 17), (80, 17), (15, 18), (54, 18), (59, 18), (80, 18), (15, 19), (54, 19), (59, 19), (80, 19), (15, 20), (54, 20), (59, 20), (80, 20), (15, 21), (54, 21), (59, 21), (80, 21), (15, 22), (54, 22), (59, 22), (80, 22), (15, 23), (54, 23), (59, 23), (80, 23), (15, 24), (54, 24), (59, 24), (80, 24)]\n",
      "Tuple{Int64, Int64}[]\n",
      "(3.5014861848467845e6, 1.6044372924291985e6)\n",
      "(3, 1.6031558833762761e6, 1.6044372924291985e6, 0.079866571225247)\n"
     ]
    },
    {
     "data": {
      "text/plain": [
       "(\"IEEE54\", 60.99575901031494, 1.6044372924291743e6, 1.6031558833762761e6, UC.first_stage([260.0 420.0 … 420.0 420.0; 260.0 420.0 … 420.0 420.0; … ; 37.5 25.0 … 0.0 0.0; 37.5 25.0 … 0.0 0.0], [1 1 … 1 1; 1 1 … 1 1; … ; 1 1 … 0 0; 1 1 … 0 0], [0 0 … 0 0; 0 0 … 0 0; … ; 0 0 … 0 0; 0 0 … 0 0], [0 0 … 0 0; 0 0 … 0 0; … ; 0 1 … 0 0; 0 1 … 0 0]), Any[0.7193021774291992, 1.2008171081542969, 0.9622411727905273], Any[0.0907289981842041, 2.6804211139678955, 54.59725308418274])"
      ]
     },
     "metadata": {},
     "output_type": "display_data"
    }
   ],
   "source": [
    "resRODCA=UC.CCG_RO(instance, UC.RO_DCA; silent = true, force=1, Γ=4, gap=0.1, timelimit=60, iter=20)"
   ]
  },
  {
   "cell_type": "code",
   "execution_count": null,
   "id": "7389a39c",
   "metadata": {},
   "outputs": [],
   "source": [
    "resRODCA[end-1]"
   ]
  },
  {
   "cell_type": "code",
   "execution_count": null,
   "id": "056f57f9",
   "metadata": {},
   "outputs": [],
   "source": [
    "res_RO=UC.CCG_RO(instance, UC.RO_GRB2; silent = true, force=1, Γ=10, gap=0.5, timelimit=500, iter=20)"
   ]
  },
  {
   "cell_type": "code",
   "execution_count": null,
   "id": "211e6127",
   "metadata": {},
   "outputs": [],
   "source": [
    "res_RO=UC.CCG_RO(instance, UC.RO_GRB2; silent = true, force=1, Γ=1, gap=0.5, timelimit=300, iter=10)"
   ]
  },
  {
   "cell_type": "code",
   "execution_count": 20,
   "id": "1f71d71b",
   "metadata": {},
   "outputs": [
    {
     "name": "stdout",
     "output_type": "stream",
     "text": [
      "Set parameter Threads to value 1\n",
      "Set parameter TimeLimit to value 5.9999999594688416e+02\n",
      "Set parameter LazyConstraints to value 1\n",
      "Set parameter MIPGap to value 0.001\n",
      "Set parameter LazyConstraints to value 1\n",
      "Set parameter MIPGap to value 0.001\n",
      "Set parameter Threads to value 1\n",
      "Set parameter TimeLimit to value 5.9999999594688416e+02\n",
      "Gurobi Optimizer version 12.0.2 build v12.0.2rc0 (linux64 - \"Ubuntu 22.04.5 LTS\")\n",
      "\n",
      "CPU model: Intel(R) Core(TM) Ultra 9 185H, instruction set [SSE2|AVX|AVX2]\n",
      "Thread count: 22 physical cores, 22 logical processors, using up to 1 threads\n",
      "\n",
      "Non-default parameters:\n",
      "TimeLimit  5.9999999594688416e+02\n",
      "MIPGap  0.001\n",
      "Threads  1\n",
      "LazyConstraints  1\n",
      "\n",
      "Optimize a model with 12940 rows, 19653 columns and 54445 nonzeros\n",
      "Model fingerprint: 0xcb72f79f\n",
      "Variable types: 15711 continuous, 3942 integer (3942 binary)\n",
      "Coefficient statistics:\n",
      "  Matrix range     [2e-03, 4e+02]\n",
      "  Objective range  [1e+00, 1e+00]\n",
      "  Bounds range     [0e+00, 0e+00]\n",
      "  RHS range        [1e+00, 3e+02]\n",
      "Presolve removed 6370 rows and 3370 columns\n",
      "Presolve time: 0.06s\n",
      "Presolved: 6570 rows, 16283 columns, 40652 nonzeros\n",
      "Variable types: 12844 continuous, 3439 integer (3439 binary)\n",
      "\n",
      "Root simplex log...\n",
      "\n",
      "Iteration    Objective       Primal Inf.    Dual Inf.      Time\n",
      "       0    2.7873364e+04   7.427689e+06   0.000000e+00     15s\n",
      "    9013    1.3886908e+06   0.000000e+00   0.000000e+00     16s\n",
      "\n",
      "Root relaxation: objective 1.388691e+06, 9013 iterations, 1.19 seconds (3.85 work units)\n",
      "\n",
      "    Nodes    |    Current Node    |     Objective Bounds      |     Work\n",
      " Expl Unexpl |  Obj  Depth IntInf | Incumbent    BestBd   Gap | It/Node Time\n",
      "\n",
      "     0     0 1388690.78    0   89          - 1388690.78      -     -   16s\n",
      "     0     0 1388690.78    0   89          - 1388690.78      -     -   33s\n",
      "     0     0 1388690.78    0   89          - 1388690.78      -     -   50s\n",
      "     0     0 1388690.78    0   89          - 1388690.78      -     -   68s\n",
      "     0     0 1388690.78    0   89          - 1388690.78      -     -   86s\n",
      "     0     0 1388690.78    0   89          - 1388690.78      -     -  103s\n",
      "     0     0 1558160.75    0  164          - 1558160.75      -     -  108s\n",
      "     0     2 1558160.75    0  164          - 1558160.75      -     -  132s\n",
      "     1     3 1577381.46    1  270          - 1558160.95      -  6440  136s\n",
      "     2     4 1577388.17    1  274          - 1577388.17      -  6336  140s\n",
      "    21    23 1577429.97   16  232          - 1577388.19      -   652  145s\n",
      "    49    51 1577463.68   35  199          - 1577388.19      -   313  150s\n",
      "    81    83 1577606.57   56  159          - 1577388.19      -   214  155s\n",
      "   132   134 1577839.90   86  157          - 1577388.19      -   141  160s\n",
      "   210   212 1578034.25  139  113          - 1577388.19      -  93.3  165s\n",
      "   292   294 1578216.12  200   19          - 1577388.19      -  72.6  170s\n",
      "   308   310 1580276.39  213   21          - 1577388.19      -  76.5  186s\n",
      "H  327   329                    1580628.0380 1577388.19  0.20%  79.3  218s\n",
      "*  328   328             230    1580624.6765 1577388.19  0.20%  80.6  233s\n",
      "   330   328 1579390.90    2  243 1580624.68 1577398.19  0.20%  92.4  236s\n",
      "   357   355 1579416.00   25  204 1580624.68 1577398.19  0.20%  89.2  240s\n",
      "   398   396 1579484.75   59  220 1580624.68 1577398.19  0.20%  85.2  245s\n",
      "   438   436 1579524.40   92  158 1580624.68 1577398.19  0.20%  79.9  250s\n",
      "   476   474 1579673.42  121  120 1580624.68 1577398.19  0.20%  75.6  255s\n",
      "   512   510 1579996.41  146   97 1580624.68 1577398.19  0.20%  71.7  260s\n",
      "   514   511 1579504.34   74  164 1580624.68 1577398.19  0.20%  71.5  319s\n",
      "\n",
      "Explored 515 nodes (94952 simplex iterations) in 323.31 seconds (275.26 work units)\n",
      "Thread count was 1 (of 22 available processors)\n",
      "\n",
      "Solution count 2: 1.58062e+06 1.58063e+06 \n",
      "\n",
      "Optimal solution found (tolerance 1.00e-03)\n",
      "Best objective 1.580624676465e+06, best bound 1.579411054509e+06, gap 0.0768%\n",
      "\n",
      "User-callback calls 9627, time in user-callback 174.78 sec\n"
     ]
    },
    {
     "data": {
      "text/plain": [
       "(\"IEEE54\", 323.34313797950745, 1.5806246764651262e6, 1.5794110545091138e6, UC.first_stage([260.0 420.0 … 420.0 420.0; 260.0 420.0 … 420.0 420.0; … ; 37.5 25.0 … 0.0 0.0; 37.5 25.0 … 0.0 0.0], [1 1 … 1 1; 1 1 … 1 1; … ; 1 1 … 0 0; 1 1 … 0 0], [0 0 … 0 0; 0 0 … 0 0; … ; 0 0 … 0 0; 0 0 … 0 0], [0 0 … 0 0; 0 0 … 0 0; … ; 0 1 … 0 0; 0 1 … 0 0]), 500, 11, Any[[0.23963403701782227, 0.010133028030395508, 0.009682178497314453, 0.009472131729125977, 0.009347915649414062, 0.009765148162841797, 0.00948190689086914, 0.010043144226074219, 0.0072689056396484375, 0.01024484634399414  …  0.010185003280639648, 0.008898019790649414, 0.011338949203491211, 0.006832122802734375, 0.0067789554595947266, 0.009689807891845703, 0.009530067443847656, 0.009682178497314453, 0.009840011596679688, 0.007090091705322266], [0.010658979415893555, 0.010403871536254883, 0.010303974151611328, 0.007174968719482422, 0.009737014770507812, 0.009675025939941406, 0.009449005126953125, 0.009414911270141602, 0.007008075714111328, 0.009530067443847656  …  0.009824037551879883, 0.009433984756469727, 0.00943303108215332, 0.006912946701049805, 0.006924867630004883, 0.00950312614440918, 0.009667158126831055, 0.009624958038330078, 0.009562015533447266, 0.0070819854736328125], [0.08619999885559082, 0.02764105796813965, 0.02593994140625, 0.02619314193725586, 0.02506399154663086, 0.0257568359375, 0.027122020721435547, 0.02655792236328125, 0.01827692985534668, 0.02576303482055664  …  0.026275157928466797, 0.027012109756469727, 0.024554014205932617, 0.02512812614440918, 0.025480031967163086, 0.026587963104248047, 0.026468992233276367, 0.027944087982177734, 0.01817798614501953, 0.025223970413208008], [0.034683942794799805, 0.02641582489013672, 0.02503204345703125, 0.024177074432373047, 0.025090932846069336, 0.02433490753173828, 0.026053905487060547, 0.026846885681152344, 0.027189016342163086, 0.026254892349243164  …  0.026256084442138672, 0.026676177978515625, 0.025537967681884766, 0.024471044540405273, 0.02579212188720703, 0.024957895278930664, 0.025441884994506836, 0.026597023010253906, 0.02594900131225586, 0.025461912155151367], [0.03551793098449707, 0.027632951736450195, 0.02705097198486328, 0.02821207046508789, 0.02691197395324707, 0.02595996856689453, 0.027131080627441406, 0.02722311019897461, 0.0270078182220459, 0.027006864547729492  …  0.027148962020874023, 0.026861190795898438, 0.02625298500061035, 0.026067018508911133, 0.026925086975097656, 0.026671886444091797, 0.02520895004272461, 0.028007984161376953, 0.02757120132446289, 0.025977134704589844], [0.03104090690612793, 0.026343107223510742, 0.025195837020874023, 0.02606987953186035, 0.025053024291992188, 0.024971961975097656, 0.026494979858398438, 0.023327112197875977, 0.024183034896850586, 0.025885820388793945  …  0.026037931442260742, 0.02682209014892578, 0.025532960891723633, 0.02485203742980957, 0.026341915130615234, 0.025118112564086914, 0.02550196647644043, 0.02722001075744629, 0.026673078536987305, 0.024577856063842773], [0.028367042541503906, 0.02676987648010254, 0.02535080909729004, 0.02716803550720215, 0.026266098022460938, 0.021351099014282227, 0.026208877563476562, 0.026868104934692383, 0.026966094970703125, 0.02656698226928711  …  0.02519392967224121, 0.026823043823242188, 0.025842905044555664, 0.024885177612304688, 0.026903867721557617, 0.025921106338500977, 0.026634931564331055, 0.02752399444580078, 0.027328968048095703, 0.02513408660888672], [0.030181169509887695, 0.026219844818115234, 0.026189804077148438, 0.024717092514038086, 0.025342941284179688, 0.02711200714111328, 0.02683711051940918, 0.02736496925354004, 0.02786397933959961, 0.025902986526489258  …  0.02783513069152832, 0.027988910675048828, 0.025781869888305664, 0.025504112243652344, 0.02584385871887207, 0.025690793991088867, 0.02570199966430664, 0.029327869415283203, 0.0279998779296875, 0.025624990463256836], [0.03167104721069336, 0.02747797966003418, 0.02601003646850586, 0.02476811408996582, 0.02419304847717285, 0.02639007568359375, 0.02704787254333496, 0.026430130004882812, 0.02657008171081543, 0.027287006378173828  …  0.024507999420166016, 0.025259971618652344, 0.0247650146484375, 0.023473024368286133, 0.023924827575683594, 0.023492813110351562, 0.02372121810913086, 0.026468992233276367, 0.023530006408691406, 0.023955821990966797], [0.02984619140625, 0.026906967163085938, 0.024959802627563477, 0.026034116744995117, 0.023910045623779297, 0.02733898162841797, 0.026424884796142578, 0.02564096450805664, 0.026067018508911133, 0.02554011344909668  …  0.02591991424560547, 0.02582097053527832, 0.02630305290222168, 0.024910926818847656, 0.024302005767822266, 0.024357080459594727, 0.02478814125061035, 0.026376962661743164, 0.026617050170898438, 0.026208877563476562], [0.02744007110595703, 0.024796009063720703, 0.022970914840698242, 0.02416205406188965, 0.022877931594848633, 0.02366805076599121, 0.025754928588867188, 0.024706125259399414, 0.025323867797851562, 0.025257110595703125  …  0.024292945861816406, 0.024856090545654297, 0.02401113510131836, 0.023151874542236328, 0.023591041564941406, 0.022499799728393555, 0.02329707145690918, 0.02498793601989746, 0.02567291259765625, 0.023787975311279297], [0.026029109954833984, 0.024169921875, 0.023314952850341797, 0.02358102798461914, 0.02276897430419922, 0.024402141571044922, 0.024258136749267578, 0.024886131286621094, 0.024485111236572266, 0.024775028228759766  …  0.025544166564941406, 0.02608203887939453, 0.02549004554748535, 0.024522066116333008, 0.024327993392944336, 0.023977994918823242, 0.024294137954711914, 0.02573394775390625, 0.02673506736755371, 0.024517059326171875]], 0.1, 1.0, 2-dimensional DenseAxisArray{Float64,2,...} with index sets:\n",
       "    Dimension 1, 1:118\n",
       "    Dimension 2, Base.OneTo(24)\n",
       "And data, a 118×24 Matrix{Float64}:\n",
       "   0.0                 0.0    0.0    0.0  …    0.0    0.0    0.0    0.0\n",
       "   0.0                 0.0    0.0    0.0       0.0    0.0    0.0    0.0\n",
       "   0.0                 0.0    0.0    0.0       0.0    0.0    0.0    0.0\n",
       "   0.0                 0.0    0.0    0.0       0.0    0.0    0.0    0.0\n",
       "   0.0                 0.0    0.0    0.0       0.0    0.0    0.0    0.0\n",
       "   0.0                 0.0    0.0    0.0  …    0.0    0.0    0.0    0.0\n",
       "   0.0                 0.0    0.0    0.0       0.0    0.0    0.0    0.0\n",
       "   0.0                 0.0    0.0    0.0       0.0    0.0    0.0    0.0\n",
       "   0.0                 0.0    0.0    0.0       0.0    0.0    0.0    0.0\n",
       " 265.17651570811745  300.0  300.0  150.0     300.0  300.0  300.0  300.0\n",
       "   ⋮                                      ⋱    ⋮                  \n",
       "  25.0                 0.0    0.0    0.0       0.0    0.0    0.0    0.0\n",
       "  25.0                 0.0    0.0    0.0  …  100.0   50.0   25.0    0.0\n",
       "  25.0                 0.0    0.0    0.0     100.0   50.0   25.0    0.0\n",
       "  25.0                 0.0    0.0    0.0     100.0   50.0   25.0    0.0\n",
       "   0.0                 0.0    0.0    0.0       0.0    0.0    0.0    0.0\n",
       "   0.0                 0.0    0.0    0.0       0.0    0.0    0.0    0.0\n",
       "  25.0                 0.0    0.0    0.0  …    0.0    0.0    0.0    0.0\n",
       "   0.0                 0.0    0.0    0.0       0.0    0.0    0.0    0.0\n",
       "   0.0                 0.0    0.0    0.0       0.0    0.0    0.0    0.0)"
      ]
     },
     "metadata": {},
     "output_type": "display_data"
    }
   ],
   "source": [
    "resSP = UC.benders(instance, UC.risk_neutral, silent=false, force=1.0, S=500, batch=11, gap=0.1, timelimit=600)"
   ]
  },
  {
   "cell_type": "code",
   "execution_count": null,
   "id": "0a8e11f3",
   "metadata": {},
   "outputs": [],
   "source": [
    "resSP = UC.benders(instance, UC.risk_neutral, silent=false, force=1.0, S=10, batch=2, gap=0.1, timelimit=60)"
   ]
  },
  {
   "cell_type": "code",
   "execution_count": null,
   "id": "6d588908",
   "metadata": {},
   "outputs": [],
   "source": [
    "resKL = UC.benders(instance, UC.KL, UC.MODEL_A, silent=false, force=1.0, S=10, batch=2, gap=0.1, timelimit=120, ρ=0.8)"
   ]
  },
  {
   "cell_type": "code",
   "execution_count": 14,
   "id": "b6d1035b",
   "metadata": {},
   "outputs": [
    {
     "data": {
      "text/plain": [
       "(\"IEEE54\", 17385.42999999997, 1.5822462162372617e6, 1.664431822872258e6, 1.1607079594366618, [1.5852069339198025e6, 1.5750041278941568e6, 1.5866184650191735e6, 1.578830436374256e6, 1.580617048977148e6, 1.5912043555743338e6, 1.5770704105967265e6, 1.5823385936599812e6, 1.57044789290634e6, 1.5891204550073957e6  …  1.5718535750982487e6, 1.587963859839311e6, 1.5781883425103002e6, 1.5878619028334012e6, 1.5849019956400322e6, 1.582300656983069e6, 1.5918101284240216e6, 1.5857787851202427e6, 1.608774073054275e6, 1.581567289187461e6], [0.0, -2.206579363672745e-11, -1.5192824776022462e-10, -2.436070234423937e-10, -6.386824807701327e-11, 0.0, -5.925315793575692e-11, -1.0651279858109319e-10, 0.0, 5.588374102071243  …  -1.4609358167660957e-10, 1.231879802421912, -1.6655227197404088e-10, -2.6660673668743584e-11, 0.0, -2.4536261911123347e-11, 7.243098780102223, 0.0, 24.875167722095355, 0.0])"
      ]
     },
     "metadata": {},
     "output_type": "display_data"
    }
   ],
   "source": [
    "UC.test_out_of_sample(instance, resSP[5]; force=1.0)"
   ]
  },
  {
   "cell_type": "code",
   "execution_count": 21,
   "id": "fd30914c",
   "metadata": {},
   "outputs": [
    {
     "data": {
      "text/plain": [
       "(\"IEEE54\", 17435.909999999967, 1.5811132943762979e6, 1.6687864299128074e6, 0.5306599701567908, [1.5856968040471233e6, 1.574789801452823e6, 1.6052667548833333e6, 1.5786236838365688e6, 1.5805082517208331e6, 1.5967704116761144e6, 1.5769915269241866e6, 1.5821620777710597e6, 1.5702212409883663e6, 1.5871117388639578e6  …  1.5715538523908781e6, 1.5866522547674966e6, 1.57804921474508e6, 1.587730885021251e6, 1.5847299084681063e6, 1.5821793398438082e6, 1.5851478611643128e6, 1.5868972563701535e6, 1.6066384363151267e6, 1.581430794344473e6], [0.646725745899562, -7.552980463287895e-11, -4.045782434048835e-10, -3.148199839132378e-10, -3.309626053750055e-10, 5.912008979576434, 0.0, -2.53935566405615e-10, -4.840297052055575e-10, 3.7094213004508916  …  0.0, 0.0, 0.0, 0.0, 1.3217515970609384e-10, 0.0, 0.5193830027229396, 1.2863933828488294, 22.938107922727703, 0.0])"
      ]
     },
     "metadata": {},
     "output_type": "display_data"
    }
   ],
   "source": [
    "UC.test_out_of_sample(instance, resSP[5]; force=1.0)"
   ]
  },
  {
   "cell_type": "code",
   "execution_count": 47,
   "id": "b9b41313",
   "metadata": {},
   "outputs": [
    {
     "data": {
      "text/plain": [
       "(\"IEEE3\", 8386.0, 84886.79223738635, 115638.20524689625, 4.57784896481117, [82090.04743596065, 82708.65707315455, 86849.55513696377, 85226.1615772841, 80973.55338663945, 81174.23607984473, 89950.38554077232, 84935.54381169134, 86917.49637578003, 84517.95071257268  …  84758.22876498726, 79940.06739993003, 80803.70332563296, 83584.41963655587, 83114.497419426, 81036.8537442101, 84158.23291078847, 81207.66871504571, 87364.40819881712, 84881.62226608937], [1.9075839394842973, 2.3308417882391694, 6.789812423769909, 4.697269964569287, 0.22147064615246137, 0.0, 9.610155619589325, 5.115284080453108, 7.070821042038702, 4.917745408151404  …  4.521673850341519, -9.923052329125355e-14, 0.0, 2.9211540867799926, 3.5324635909132667, -1.321997062305222e-13, 3.9977393503985255, 0.14955705885443968, 7.471750763026975, 3.1627936262441287])"
      ]
     },
     "metadata": {},
     "output_type": "display_data"
    }
   ],
   "source": [
    "UC.test_out_of_sample(instance, resROBD1[5]; force=1.0)"
   ]
  },
  {
   "cell_type": "code",
   "execution_count": 48,
   "id": "09b4a816",
   "metadata": {},
   "outputs": [
    {
     "data": {
      "text/plain": [
       "(\"IEEE3\", 8386.0, 82632.85065614892, 114139.89641335132, 2.3332836347020605, [80179.05181596198, 81210.34823960988, 85351.2463034191, 80476.10248955642, 81003.90594185388, 81204.5886350593, 84154.6862842918, 81940.0214284385, 79768.60740202053, 82273.40977352085  …  84311.47965479869, 79970.41995514467, 80834.05588084758, 82099.8396992487, 79549.86177816814, 81067.2062994248, 82659.92407724405, 81238.0212702605, 81568.70894233644, 84911.97482130425], [-1.2537849596722523e-13, 0.8287671210884836, 5.287737756619229, -1.9184653865522705e-13, 0.22147064615236975, 0.0, 3.8854314261187, 2.1420356393924576, 0.016442021724216715, 2.6824172227662895  …  4.052870012861731, -8.526512829121202e-14, 0.0, 1.4325695407234564, -9.2579843284539e-14, 0.0, 2.495664683248002, 0.1495570588546542, 1.7470265695561693, 3.162793626244392])"
      ]
     },
     "metadata": {},
     "output_type": "display_data"
    }
   ],
   "source": [
    "UC.test_out_of_sample(instance, resROBD2[5]; force=1.0)"
   ]
  },
  {
   "cell_type": "code",
   "execution_count": null,
   "id": "1a121136",
   "metadata": {},
   "outputs": [],
   "source": [
    "exp(20)"
   ]
  },
  {
   "cell_type": "code",
   "execution_count": null,
   "id": "c5c8d4cf",
   "metadata": {},
   "outputs": [],
   "source": [
    "resAVAR = UC.benders(instance, UC.AVAR, silent=false, force=1.0, S=10, batch=21, gap=0.1, timelimit=120, ρ=0.95)"
   ]
  },
  {
   "cell_type": "code",
   "execution_count": null,
   "id": "7d1514e9",
   "metadata": {},
   "outputs": [],
   "source": [
    "S=10 \n",
    "resDRO2=UC.benders(instance, UC.DCA_l2, UC.MODEL_A, ρ = 1.5, silent=false, force=1.0, S=S, batch=2, gap=0.1, timelimit=130);"
   ]
  },
  {
   "cell_type": "code",
   "execution_count": null,
   "id": "3840452f",
   "metadata": {},
   "outputs": [],
   "source": [
    "resDRO2=UC.benders(instance, UC.Grb_l2, ρ = radius, silent=false, force=1.0, S=S, batch=2, gap=0.1, timelimit=30);"
   ]
  },
  {
   "cell_type": "code",
   "execution_count": null,
   "id": "77ad4f2a",
   "metadata": {},
   "outputs": [],
   "source": [
    "S=10\n",
    "resDca1=UC.benders(instance, UC.DCA_l1, ρ = 3000.0, silent=false, force=1.0, S=S, batch=2, gap=0.1, timelimit=100);"
   ]
  },
  {
   "cell_type": "code",
   "execution_count": null,
   "id": "bd6972b0",
   "metadata": {},
   "outputs": [],
   "source": [
    "UC.test_out_of_sample(instance, UC.MODEL_B, resDRO2[5]; force=1.0)"
   ]
  },
  {
   "cell_type": "code",
   "execution_count": null,
   "id": "bb699fd0",
   "metadata": {},
   "outputs": [],
   "source": [
    "UC.test_out_of_sample(instance, resAVAR[5]; force=1.0)"
   ]
  },
  {
   "cell_type": "code",
   "execution_count": null,
   "id": "b52458c0",
   "metadata": {},
   "outputs": [],
   "source": [
    "sol=resDca1\n",
    "T= instance.TimeHorizon\n",
    "N=instance.N\n",
    "N1=instance.N1\n",
    "N2 = N - N1\n",
    "batch=2\n",
    "s=2\n",
    "force = 1.0 \n",
    "λ_val = 16554.1017523152\n",
    "solution_x = [sol[5].is_on, sol[5].start_up, sol[5].start_down]\n",
    "Pmin, Pmax=UC.get_limit_power_solution_A(instance, solution_x)\n",
    "prod_tot_first_stage_val = sol[end]\n",
    "options1 = UC.DCA_l1\n",
    "oracle_pb=options1.oracle_problem(instance)\n",
    "@objective(oracle_pb, Max, sum(oracle_pb[:μₘᵢₙ][i,t]*Pmin[i,t] - oracle_pb[:μₘₐₓ][i,t]*Pmax[i,t] for i in 1:N2 for t in 1:T)+sum(oracle_pb[:network_cost][t] for t in 1:T))\n",
    "cost1 = options1.second_stage(instance, options1, oracle_pb, prod_tot_first_stage_val, Pmin, Pmax; λ=1e-2*λ_val, batch=batch, scenario=s, force=force)\n",
    "options2 = UC.Grb_l1\n",
    "oracle_pb=options2.oracle_problem(instance)\n",
    "@objective(oracle_pb, Max, sum(oracle_pb[:μₘᵢₙ][i,t]*Pmin[i,t] - oracle_pb[:μₘₐₓ][i,t]*Pmax[i,t] for i in 1:N2 for t in 1:T)+sum(oracle_pb[:network_cost][t] for t in 1:T))\n",
    "cost2 = options2.second_stage(instance, options2, oracle_pb, prod_tot_first_stage_val, Pmin, Pmax; λ=1e-2*λ_val, batch=batch, scenario=s, force=force)"
   ]
  },
  {
   "cell_type": "code",
   "execution_count": null,
   "id": "9d9a3245",
   "metadata": {},
   "outputs": [],
   "source": [
    "options2 = UC.risk_neutral\n",
    "oracle_pb=options2.oracle_problem(instance)\n",
    "@objective(oracle_pb, Max, sum(oracle_pb[:μₘᵢₙ][i,t]*Pmin[i,t] - oracle_pb[:μₘₐₓ][i,t]*Pmax[i,t] for i in 1:N2 for t in 1:T)+sum(oracle_pb[:network_cost][t] for t in 1:T))\n",
    "cost2 = options2.second_stage(instance, options2, oracle_pb, prod_tot_first_stage_val, Pmin, Pmax; λ=1e-2*λ_val, batch=batch, scenario=2, force=force)"
   ]
  },
  {
   "cell_type": "code",
   "execution_count": null,
   "id": "fadcda72",
   "metadata": {},
   "outputs": [],
   "source": [
    "prod_tot_first_stage_val[:,3]"
   ]
  },
  {
   "cell_type": "code",
   "execution_count": null,
   "id": "f333118c",
   "metadata": {},
   "outputs": [],
   "source": [
    "sum(cost1.objective_value), sum(cost2.objective_value)"
   ]
  },
  {
   "cell_type": "code",
   "execution_count": null,
   "id": "19d07513",
   "metadata": {},
   "outputs": [],
   "source": [
    "mat = cost1.ν"
   ]
  },
  {
   "cell_type": "code",
   "execution_count": null,
   "id": "5b0733da",
   "metadata": {},
   "outputs": [],
   "source": [
    "k=3\n",
    "idx_lin = partialsortperm(mat, 1:k, rev=true)\n",
    "\n",
    "# Conversion en indices 2D (ligne, colonne)\n",
    "idx_2d = CartesianIndices(mat)[idx_lin]"
   ]
  },
  {
   "cell_type": "code",
   "execution_count": null,
   "id": "33bb1313",
   "metadata": {},
   "outputs": [],
   "source": [
    "UC.compute_uncertainty_RO(instance; x0=cost1.ν, Γ=10)"
   ]
  },
  {
   "cell_type": "code",
   "execution_count": null,
   "id": "795fe414",
   "metadata": {},
   "outputs": [],
   "source": [
    "cost1.ν[instance.BusWind, :]"
   ]
  },
  {
   "cell_type": "code",
   "execution_count": null,
   "id": "938775ce",
   "metadata": {},
   "outputs": [],
   "source": [
    "# Exemple de matrice\n",
    "mat = abs.(cost1.ν)\n",
    "\n",
    "k = 3  # nombre de plus grands éléments\n",
    "\n",
    "# On travaille sur le vecteur aplati\n",
    "idx_lin = partialsortperm(vec(mat), 1:k; rev=true)\n",
    "\n",
    "# Conversion en indices 2D (ligne, colonne)\n",
    "idx_2d = CartesianIndices(mat)[idx_lin]\n",
    "\n",
    "# Valeurs correspondantes\n",
    "vals = vec(mat)[idx_lin]\n",
    "\n",
    "println(\"Indices 2D :\", collect(idx_2d))\n",
    "println(\"Valeurs    :\", vals)\n"
   ]
  },
  {
   "cell_type": "code",
   "execution_count": null,
   "id": "2f2261c2",
   "metadata": {},
   "outputs": [],
   "source": [
    "maximum(cost2.ν)"
   ]
  },
  {
   "cell_type": "code",
   "execution_count": null,
   "id": "d5952732",
   "metadata": {},
   "outputs": [],
   "source": [
    "resDca1[5].is_on"
   ]
  },
  {
   "cell_type": "code",
   "execution_count": null,
   "id": "e9817488",
   "metadata": {},
   "outputs": [],
   "source": [
    "A=[sum(instance.Demandbus[b][t] for b in 1:6) for t in 1:24]"
   ]
  },
  {
   "cell_type": "code",
   "execution_count": null,
   "id": "b2509da4",
   "metadata": {},
   "outputs": [],
   "source": [
    "B=[sum(prod_tot_first_stage_val[b,t] for b in 1:6) for t in 1:24]"
   ]
  },
  {
   "cell_type": "code",
   "execution_count": null,
   "id": "6c5ab06f",
   "metadata": {},
   "outputs": [],
   "source": [
    "[A[t]-B[t] for t in 1:24]"
   ]
  },
  {
   "cell_type": "code",
   "execution_count": null,
   "id": "bd05638b",
   "metadata": {},
   "outputs": [],
   "source": [
    "# si nécessaire, installer le paquet (décommenter la ligne)\n",
    "# using Pkg; Pkg.add(\"Distributions\")\n",
    "\n",
    "using Distributions\n",
    "\n",
    "function chi2_quantile(S::Int, α::Float64)\n",
    "    df = S - 1\n",
    "    dist = Chisq(df)\n",
    "    return quantile(dist, 1 - α)/(2)\n",
    "end"
   ]
  },
  {
   "cell_type": "code",
   "execution_count": null,
   "id": "4362e919",
   "metadata": {},
   "outputs": [],
   "source": [
    "chi2_quantile(10, 0.3)"
   ]
  },
  {
   "cell_type": "code",
   "execution_count": null,
   "id": "a830f1a9",
   "metadata": {},
   "outputs": [],
   "source": [
    "UC.compute_radius_KL(100, 0.999999999999999)"
   ]
  }
 ],
 "metadata": {
  "kernelspec": {
   "display_name": "Julia 1.11.5",
   "language": "julia",
   "name": "julia-1.11"
  },
  "language_info": {
   "file_extension": ".jl",
   "mimetype": "application/julia",
   "name": "julia",
   "version": "1.11.5"
  }
 },
 "nbformat": 4,
 "nbformat_minor": 5
}
