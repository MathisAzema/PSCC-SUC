{
 "cells": [
  {
   "cell_type": "code",
   "execution_count": null,
   "id": "aa30cbe6",
   "metadata": {},
   "outputs": [],
   "source": [
    "using Revise, UC, JuMP, Gurobi, Statistics\n",
    "const GRB_ENV = Gurobi.Env()\n",
    "optimizer=() -> Gurobi.Optimizer(GRB_ENV)"
   ]
  },
  {
   "cell_type": "code",
   "execution_count": null,
   "id": "f1b27e67",
   "metadata": {},
   "outputs": [],
   "source": [
    "instance=UC.parse_IEEE_JEAS(\"118_syst_JEAS\",  optimizer; N1=35, NumWind=91); instance.N1\n",
    "# instance=UC.parse_IEEE_JEAS(\"6bus_JEAS\",  optimizer; N1=2, NumWind=3); instance.N1"
   ]
  },
  {
   "cell_type": "code",
   "execution_count": null,
   "id": "3de6aecd",
   "metadata": {},
   "outputs": [],
   "source": [
    "resBD1=UC.benders_RO(instance, UC.RO_DCA; silent = false, force=1.0, Γ=4, gap=0.1, timelimit=60)"
   ]
  },
  {
   "cell_type": "code",
   "execution_count": null,
   "id": "f981d7f5",
   "metadata": {},
   "outputs": [],
   "source": [
    "resROBD2=UC.benders_RO(instance, UC.RO_MILP; silent = false, force=1.0, Γ=4, gap=0.1, timelimit=60)"
   ]
  },
  {
   "cell_type": "code",
   "execution_count": null,
   "id": "1f71d71b",
   "metadata": {},
   "outputs": [],
   "source": [
    "resSP = UC.benders(instance, UC.risk_neutral, silent=false, force=1.0, S=10, batch=1, gap=0.1, timelimit=600)"
   ]
  },
  {
   "cell_type": "code",
   "execution_count": null,
   "id": "6d588908",
   "metadata": {},
   "outputs": [],
   "source": [
    "resKL = UC.benders(instance, UC.KL, UC.MODEL_A, silent=false, force=1.0, S=10, batch=2, gap=0.1, timelimit=120, ρ=0.8)"
   ]
  },
  {
   "cell_type": "code",
   "execution_count": null,
   "id": "685c72b1",
   "metadata": {},
   "outputs": [],
   "source": [
    "UC.test_out_of_sample(instance, resROBD2[5]; force=1.0)"
   ]
  }
 ],
 "metadata": {
  "kernelspec": {
   "display_name": "Julia 1.11.5",
   "language": "julia",
   "name": "julia-1.11"
  },
  "language_info": {
   "file_extension": ".jl",
   "mimetype": "application/julia",
   "name": "julia",
   "version": "1.11.5"
  }
 },
 "nbformat": 4,
 "nbformat_minor": 5
}
