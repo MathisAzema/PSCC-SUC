{
 "cells": [
  {
   "cell_type": "code",
   "execution_count": 1,
   "id": "aa30cbe6",
   "metadata": {},
   "outputs": [
    {
     "name": "stdout",
     "output_type": "stream",
     "text": [
      "Set parameter Username\n",
      "Set parameter LicenseID to value 2658456\n",
      "Academic license - for non-commercial use only - expires 2026-04-28\n"
     ]
    },
    {
     "data": {
      "text/plain": [
       "#11 (generic function with 1 method)"
      ]
     },
     "metadata": {},
     "output_type": "display_data"
    }
   ],
   "source": [
    "using Revise, UC, JuMP, Gurobi, Statistics\n",
    "const GRB_ENV = Gurobi.Env()\n",
    "optimizer=() -> Gurobi.Optimizer(GRB_ENV)"
   ]
  },
  {
   "cell_type": "code",
   "execution_count": 2,
   "id": "f1b27e67",
   "metadata": {},
   "outputs": [
    {
     "data": {
      "text/plain": [
       "35"
      ]
     },
     "metadata": {},
     "output_type": "display_data"
    }
   ],
   "source": [
    "instance=UC.parse_IEEE_JEAS(\"118_syst_JEAS\",  optimizer; N1=35, NumWind=91); instance.N1\n",
    "# instance=UC.parse_IEEE_JEAS(\"6bus_JEAS\",  optimizer; N1=2, NumWind=3); instance.N1"
   ]
  },
  {
   "cell_type": "code",
   "execution_count": 3,
   "id": "3de6aecd",
   "metadata": {},
   "outputs": [
    {
     "name": "stdout",
     "output_type": "stream",
     "text": [
      "Set parameter Threads to value 1\n",
      "Set parameter TimeLimit to value 5.9999987840652466e+01\n",
      "Set parameter LazyConstraints to value 1\n",
      "Set parameter MIPGap to value 0.001\n",
      "Set parameter LazyConstraints to value 1\n",
      "Set parameter MIPGap to value 0.001\n",
      "Set parameter Threads to value 1\n",
      "Set parameter TimeLimit to value 5.9999987840652466e+01\n",
      "Gurobi Optimizer version 12.0.2 build v12.0.2rc0 (linux64 - \"Ubuntu 22.04.5 LTS\")\n",
      "\n",
      "CPU model: Intel(R) Core(TM) Ultra 9 185H, instruction set [SSE2|AVX|AVX2]\n",
      "Thread count: 22 physical cores, 22 logical processors, using up to 1 threads\n",
      "\n",
      "Non-default parameters:\n",
      "TimeLimit  5.9999987840652466e+01\n",
      "MIPGap  0.001\n",
      "Threads  1\n",
      "LazyConstraints  1\n",
      "\n",
      "Optimize a model with 12940 rows, 7677 columns and 42469 nonzeros\n",
      "Model fingerprint: 0x16cd9c9a\n",
      "Variable types: 3735 continuous, 3942 integer (3942 binary)\n",
      "Coefficient statistics:\n",
      "  Matrix range     [1e+00, 4e+02]\n",
      "  Objective range  [1e+00, 1e+00]\n",
      "  Bounds range     [0e+00, 0e+00]\n",
      "  RHS range        [1e+00, 3e+02]\n",
      "Presolve removed 6370 rows and 3370 columns\n",
      "Presolve time: 0.05s\n",
      "Presolved: 6570 rows, 4307 columns, 28677 nonzeros\n",
      "Variable types: 868 continuous, 3439 integer (3439 binary)\n",
      "\n",
      "Root relaxation: objective 1.387698e+06, 2912 iterations, 0.04 seconds (0.08 work units)\n",
      "\n",
      "    Nodes    |    Current Node    |     Objective Bounds      |     Work\n",
      " Expl Unexpl |  Obj  Depth IntInf | Incumbent    BestBd   Gap | It/Node Time\n",
      "\n",
      "     0     0 1387698.34    0   85          - 1387698.34      -     -    3s\n",
      "     0     0 1387698.34    0   85          - 1387698.34      -     -    6s\n",
      "     0     0 1387698.34    0   85          - 1387698.34      -     -   10s\n",
      "H    0     0                    4977894.5068 1387698.34  72.1%     -   12s\n",
      "     0     0 1508535.33    0  101 4977894.51 1508535.33  69.7%     -   12s\n",
      "     0     0 1508536.67    0  101 4977894.51 1508536.67  69.7%     -   17s\n",
      "     0     0 1595825.21    0  193 4977894.51 1595825.21  67.9%     -   19s\n",
      "     0     0 1596158.93    0  173 4977894.51 1596158.93  67.9%     -   19s\n",
      "     0     0 1596159.50    0  203 4977894.51 1596159.50  67.9%     -   19s\n",
      "     0     0 1596227.48    0  194 4977894.51 1596227.48  67.9%     -   19s\n",
      "     0     0 1596227.48    0  194 4977894.51 1596227.48  67.9%     -   20s\n",
      "H    0     0                    1968063.9154 1596227.48  18.9%     -   21s\n",
      "H    0     0                    1886820.8993 1596227.48  15.4%     -   23s\n",
      "     0     0 1596227.48    0  194 1886820.90 1596227.48  15.4%     -   25s\n",
      "H    0     0                    1804208.5401 1596227.48  11.5%     -   26s\n",
      "H    0     0                    1803707.4230 1596227.48  11.5%     -   26s\n",
      "     0     0 1603743.30    0  255 1803707.42 1603743.30  11.1%     -   26s\n",
      "     0     0 1603745.39    0  271 1803707.42 1603745.39  11.1%     -   26s\n",
      "     0     0 1603894.89    0  262 1803707.42 1603894.89  11.1%     -   26s\n",
      "     0     0 1603897.09    0  276 1803707.42 1603897.09  11.1%     -   26s\n",
      "     0     0 1604103.18    0  195 1803707.42 1604103.18  11.1%     -   27s\n",
      "     0     0 1604107.52    0  179 1803707.42 1604107.52  11.1%     -   27s\n",
      "     0     0 1604160.07    0  220 1803707.42 1604160.07  11.1%     -   27s\n",
      "     0     0 1604160.07    0  218 1803707.42 1604160.07  11.1%     -   27s\n",
      "     0     2 1604160.19    0  218 1803707.42 1604160.19  11.1%     -   27s\n",
      "H  108   108                    1614567.3634 1604160.77  0.64%  27.4   29s\n",
      "   162   164 1604847.10  115   25 1614567.36 1604160.77  0.64%  21.3   30s\n",
      "H  215   203                    1604907.9901 1604160.77  0.05%  18.2   32s\n",
      "\n",
      "Cutting planes:\n",
      "  Gomory: 7\n",
      "  Implied bound: 73\n",
      "  MIR: 60\n",
      "  Flow cover: 50\n",
      "  RLT: 53\n",
      "  Relax-and-lift: 27\n",
      "  Lazy constraints: 191\n",
      "\n",
      "Explored 216 nodes (13793 simplex iterations) in 32.42 seconds (2.36 work units)\n",
      "Thread count was 1 (of 22 available processors)\n",
      "\n",
      "Solution count 7: 1.60491e+06 1.61457e+06 1.80371e+06 ... 4.97789e+06\n",
      "\n",
      "Optimal solution found (tolerance 1.00e-03)\n",
      "Best objective 1.604907990094e+06, best bound 1.604160768758e+06, gap 0.0466%\n",
      "\n",
      "User-callback calls 1487, time in user-callback 31.00 sec\n"
     ]
    },
    {
     "data": {
      "text/plain": [
       "(\"IEEE54\", 32.8366858959198, 1.6049079900936256e6, 1.6041607687578115e6, UC.first_stage([260.0 420.0 … 420.0 420.0; 260.0 420.0 … 420.0 420.0; … ; 37.5 25.0 … 0.0 0.0; 37.5 25.0 … 0.0 0.0], [1 1 … 1 1; 1 1 … 1 1; … ; 1 1 … 0 0; 1 1 … 0 1], [0 0 … 0 0; 0 0 … 0 0; … ; 0 0 … 0 0; 0 0 … 0 1], [0 0 … 0 0; 0 0 … 0 0; … ; 0 1 … 0 0; 0 1 … 0 0]), Any[0.5799322128295898, 0.5186879634857178, 1.0687808990478516, 1.0733177661895752, 1.1028947830200195, 1.1193759441375732, 1.1085200309753418, 1.1477210521697998, 1.175633192062378, 1.0939099788665771  …  0.8048558235168457, 1.308518409729004, 1.3381972312927246, 0.7922680377960205, 0.7841849327087402, 1.0623769760131836, 1.106497049331665, 0.7962009906768799, 0.8294486999511719, 0.8275980949401855])"
      ]
     },
     "metadata": {},
     "output_type": "display_data"
    }
   ],
   "source": [
    "resBD1=UC.benders_RO(instance, UC.RO_DCA; silent = false, force=1.0, Γ=4, gap=0.1, timelimit=60)"
   ]
  },
  {
   "cell_type": "code",
   "execution_count": 5,
   "id": "f981d7f5",
   "metadata": {},
   "outputs": [
    {
     "name": "stdout",
     "output_type": "stream",
     "text": [
      "Set parameter Threads to value 1\n",
      "Set parameter TimeLimit to value 5.9999988079071045e+01\n",
      "Set parameter LazyConstraints to value 1\n",
      "Set parameter MIPGap to value 0.001\n",
      "Set parameter LazyConstraints to value 1\n",
      "Set parameter MIPGap to value 0.001\n",
      "Set parameter Threads to value 1\n",
      "Set parameter TimeLimit to value 5.9999988079071045e+01\n",
      "Gurobi Optimizer version 12.0.2 build v12.0.2rc0 (linux64 - \"Ubuntu 22.04.5 LTS\")\n",
      "\n",
      "CPU model: Intel(R) Core(TM) Ultra 9 185H, instruction set [SSE2|AVX|AVX2]\n",
      "Thread count: 22 physical cores, 22 logical processors, using up to 1 threads\n",
      "\n",
      "Non-default parameters:\n",
      "TimeLimit  5.9999988079071045e+01\n",
      "MIPGap  0.001\n",
      "Threads  1\n",
      "LazyConstraints  1\n",
      "\n",
      "Optimize a model with 714 rows, 441 columns and 2145 nonzeros\n",
      "Model fingerprint: 0xde72b559\n",
      "Variable types: 222 continuous, 219 integer (219 binary)\n",
      "Coefficient statistics:\n",
      "  Matrix range     [1e+00, 2e+02]\n",
      "  Objective range  [1e+00, 1e+00]\n",
      "  Bounds range     [0e+00, 0e+00]\n",
      "  RHS range        [1e+00, 2e+02]\n",
      "Presolve removed 337 rows and 169 columns\n",
      "Presolve time: 0.00s\n",
      "Presolved: 377 rows, 272 columns, 1479 nonzeros\n",
      "Variable types: 76 continuous, 196 integer (196 binary)\n",
      "\n",
      "Root relaxation: objective 6.365892e+04, 147 iterations, 0.00 seconds (0.00 work units)\n",
      "\n",
      "    Nodes    |    Current Node    |     Objective Bounds      |     Work\n",
      " Expl Unexpl |  Obj  Depth IntInf | Incumbent    BestBd   Gap | It/Node Time\n",
      "\n",
      "     0     0 63658.9238    0   45          - 63658.9238      -     -    1s\n",
      "H    0     0                    3437678.9286 63658.9238  98.1%     -    1s\n",
      "H    0     0                    91581.078323 63658.9238  30.5%     -    1s\n",
      "     0     0 77613.1300    0   50 91581.0783 77613.1300  15.3%     -    1s\n",
      "H    0     0                    88318.140403 77826.5415  11.9%     -    1s\n",
      "     0     0 79966.8189    0   21 88318.1404 79966.8189  9.46%     -    1s\n",
      "H    0     0                    85494.277581 79982.9332  6.45%     -    3s\n",
      "H    0     0                    81978.854216 79982.9332  2.43%     -    3s\n",
      "     0     0          -    0      81978.8542 81898.4269  0.10%     -    3s\n",
      "\n",
      "Cutting planes:\n",
      "  Gomory: 2\n",
      "  Cover: 6\n",
      "  Implied bound: 6\n",
      "  Clique: 5\n",
      "  MIR: 25\n",
      "  Flow cover: 11\n",
      "  Relax-and-lift: 18\n",
      "  Lazy constraints: 92\n",
      "\n",
      "Explored 1 nodes (326 simplex iterations) in 3.22 seconds (0.03 work units)\n",
      "Thread count was 1 (of 22 available processors)\n",
      "\n",
      "Solution count 5: 81978.9 85494.3 88318.1 ... 3.43768e+06\n",
      "\n",
      "Optimal solution found (tolerance 1.00e-03)\n",
      "Best objective 8.197885421552e+04, best bound 8.189842692857e+04, gap 0.0981%\n",
      "\n",
      "User-callback calls 418, time in user-callback 3.23 sec\n"
     ]
    },
    {
     "data": {
      "text/plain": [
       "(\"IEEE3\", 3.62847900390625, 81978.8542155175, 81898.42692857291, UC.first_stage([180.0 152.95532470422648 … 182.3049390027182 181.95478701004146; 20.0 10.0 … 0.0 0.0], [1 1 … 1 1; 1 1 … 0 0; 0 1 … 1 1], [0 0 … 0 0; 0 0 … 0 0; 1 0 … 0 0], [0 0 … 0 0; 0 1 … 0 0; 0 0 … 0 0]), Any[0.03270101547241211, 0.007328033447265625, 0.01102900505065918, 0.009910106658935547, 0.011748075485229492, 0.10040497779846191, 0.03852701187133789, 0.09891390800476074, 0.10359907150268555, 0.10477709770202637, 0.10397982597351074, 0.10250520706176758, 0.10602617263793945])"
      ]
     },
     "metadata": {},
     "output_type": "display_data"
    }
   ],
   "source": [
    "resROBD2=UC.benders_RO(instance, UC.RO_MILP; silent = false, force=1.0, Γ=1, gap=0.1, timelimit=60)"
   ]
  },
  {
   "cell_type": "code",
   "execution_count": null,
   "id": "7389a39c",
   "metadata": {},
   "outputs": [],
   "source": [
    "resRODCA[end-1]"
   ]
  },
  {
   "cell_type": "code",
   "execution_count": null,
   "id": "056f57f9",
   "metadata": {},
   "outputs": [],
   "source": [
    "res_RO=UC.CCG_RO(instance, UC.RO_GRB2; silent = true, force=1, Γ=10, gap=0.5, timelimit=500, iter=20)"
   ]
  },
  {
   "cell_type": "code",
   "execution_count": null,
   "id": "211e6127",
   "metadata": {},
   "outputs": [],
   "source": [
    "res_RO=UC.CCG_RO(instance, UC.RO_GRB2; silent = true, force=1, Γ=1, gap=0.5, timelimit=300, iter=10)"
   ]
  },
  {
   "cell_type": "code",
   "execution_count": 6,
   "id": "1f71d71b",
   "metadata": {},
   "outputs": [
    {
     "name": "stdout",
     "output_type": "stream",
     "text": [
      "Set parameter Threads to value 1\n",
      "Set parameter TimeLimit to value 5.9999999189376831e+02\n",
      "Set parameter LazyConstraints to value 1\n",
      "Set parameter MIPGap to value 0.001\n",
      "Set parameter LazyConstraints to value 1\n",
      "Set parameter MIPGap to value 0.001\n",
      "Set parameter Threads to value 1\n",
      "Set parameter TimeLimit to value 5.9999999189376831e+02\n",
      "Gurobi Optimizer version 12.0.2 build v12.0.2rc0 (linux64 - \"Ubuntu 22.04.5 LTS\")\n",
      "\n",
      "CPU model: Intel(R) Core(TM) Ultra 9 185H, instruction set [SSE2|AVX|AVX2]\n",
      "Thread count: 22 physical cores, 22 logical processors, using up to 1 threads\n",
      "\n",
      "Non-default parameters:\n",
      "TimeLimit  5.9999999189376831e+02\n",
      "MIPGap  0.001\n",
      "Threads  1\n",
      "LazyConstraints  1\n",
      "\n",
      "Optimize a model with 714 rows, 657 columns and 2361 nonzeros\n",
      "Model fingerprint: 0x11a9f886\n",
      "Variable types: 438 continuous, 219 integer (219 binary)\n",
      "Coefficient statistics:\n",
      "  Matrix range     [1e-01, 2e+02]\n",
      "  Objective range  [1e+00, 1e+00]\n",
      "  Bounds range     [0e+00, 0e+00]\n",
      "  RHS range        [1e+00, 2e+02]\n",
      "Presolve removed 337 rows and 169 columns\n",
      "Presolve time: 0.00s\n",
      "Presolved: 377 rows, 488 columns, 1695 nonzeros\n",
      "Variable types: 292 continuous, 196 integer (196 binary)\n",
      "\n",
      "Root relaxation: objective 6.358518e+04, 136 iterations, 0.00 seconds (0.00 work units)\n",
      "\n",
      "    Nodes    |    Current Node    |     Objective Bounds      |     Work\n",
      " Expl Unexpl |  Obj  Depth IntInf | Incumbent    BestBd   Gap | It/Node Time\n",
      "\n",
      "     0     0 63585.1777    0   44          - 63585.1777      -     -    1s\n",
      "H    0     0                    3340482.2559 63585.1777  98.1%     -    1s\n",
      "H    0     0                    79995.951427 63585.1777  20.5%     -    1s\n",
      "     0     0 75839.6619    0   51 79995.9514 75839.6619  5.20%     -    1s\n",
      "     0     0 78058.2917    0   39 79995.9514 78058.2917  2.42%     -    1s\n",
      "     0     0 78267.2992    0   48 79995.9514 78267.2992  2.16%     -    1s\n",
      "     0     0 78276.7954    0   48 79995.9514 78276.7954  2.15%     -    1s\n",
      "H    0     0                    79064.518709 78276.7954  1.00%     -    2s\n",
      "     0     0 78276.7954    0   34 79064.5187 78276.7954  1.00%     -    2s\n",
      "     0     0 78924.6144    0   25 79064.5187 78924.6144  0.18%     -    2s\n",
      "     0     0 78943.1201    0   13 79064.5187 78943.1201  0.15%     -    2s\n",
      "     0     0 78979.7459    0    7 79064.5187 78979.7459  0.11%     -    2s\n",
      "     0     0          -    0      79064.5187 78996.5827  0.09%     -    2s\n",
      "\n",
      "Cutting planes:\n",
      "  Gomory: 9\n",
      "  Cover: 1\n",
      "  Implied bound: 2\n",
      "  MIR: 2\n",
      "  Flow cover: 1\n",
      "  Relax-and-lift: 1\n",
      "\n",
      "Explored 1 nodes (1111 simplex iterations) in 2.30 seconds (0.13 work units)\n",
      "Thread count was 1 (of 22 available processors)\n",
      "\n",
      "Solution count 3: 79064.5 79996 3.34048e+06 \n",
      "\n",
      "Optimal solution found (tolerance 1.00e-03)\n",
      "Best objective 7.906451870945e+04, best bound 7.899658265501e+04, gap 0.0859%\n",
      "\n",
      "User-callback calls 457, time in user-callback 2.26 sec\n"
     ]
    },
    {
     "data": {
      "text/plain": [
       "(\"IEEE3\", 2.386698007583618, 79064.51870944588, 78996.58265501382, UC.first_stage([180.0 154.2773631680464 … 178.4748067188927 179.81275137064893; 20.0 10.0 … 0.0 0.0], [1 1 … 1 1; 1 1 … 0 0; 0 1 … 1 1], [0 0 … 0 0; 0 0 … 0 0; 1 0 … 0 0], [0 0 … 0 0; 0 1 … 0 0; 0 0 … 0 0]), 10, 11, Any[[0.0019001960754394531, 0.0003650188446044922, 0.00021219253540039062, 0.00027298927307128906, 0.00020384788513183594, 0.00019407272338867188, 0.0002219676971435547, 0.0002009868621826172, 0.0001971721649169922, 0.00019598007202148438], [0.00034999847412109375, 0.00024199485778808594, 0.00023889541625976562, 0.0002288818359375, 0.00022292137145996094, 0.00022602081298828125, 0.0002110004425048828, 0.0002110004425048828, 0.0002200603485107422, 0.00021409988403320312], [0.0006361007690429688, 0.0003199577331542969, 0.00022792816162109375, 0.000225067138671875, 0.0002181529998779297, 0.00021314620971679688, 0.00021886825561523438, 0.00021219253540039062, 0.00020599365234375, 0.000209808349609375], [0.0002510547637939453, 0.0002980232238769531, 0.00021600723266601562, 0.0002880096435546875, 0.00021696090698242188, 0.00020694732666015625, 0.0002110004425048828, 0.00027298927307128906, 0.0002770423889160156, 0.0002758502960205078], [0.0003459453582763672, 0.00023221969604492188, 0.0002219676971435547, 0.0002219676971435547, 0.00021600723266601562, 0.0002090930938720703, 0.0002110004425048828, 0.0002048015594482422, 0.0002009868621826172, 0.00020599365234375], [0.0008790493011474609, 0.0006830692291259766, 0.00034999847412109375, 0.0006439685821533203, 0.00033593177795410156, 0.00024509429931640625, 0.00023412704467773438, 0.0006520748138427734, 0.000244140625, 0.00023412704467773438], [0.0004200935363769531, 0.0007178783416748047, 0.0006928443908691406, 0.0006608963012695312, 0.0009379386901855469, 0.0006699562072753906, 0.0008261203765869141, 0.000823974609375, 0.0008311271667480469, 0.0003719329833984375], [0.0006189346313476562, 0.0006098747253417969, 0.0005450248718261719, 0.0005369186401367188, 0.0005500316619873047, 0.0002770423889160156, 0.0002751350402832031, 0.0005381107330322266, 0.00028204917907714844, 0.0002779960632324219], [0.0002892017364501953, 0.0003020763397216797, 0.0002009868621826172, 0.0001850128173828125, 0.0005400180816650391, 0.0005469322204589844, 0.0005559921264648438, 0.0005478858947753906, 0.00020194053649902344, 0.00020003318786621094], [0.00030612945556640625, 0.0002899169921875, 0.0001990795135498047, 0.0001938343048095703, 0.0005390644073486328, 0.0005500316619873047, 0.0005600452423095703, 0.0005509853363037109, 0.00020599365234375, 0.00019502639770507812]], 0.1, 1.0, 2-dimensional DenseAxisArray{Float64,2,...} with index sets:\n",
       "    Dimension 1, 1:6\n",
       "    Dimension 2, Base.OneTo(24)\n",
       "And data, a 6×24 Matrix{Float64}:\n",
       " 154.2773631680464  153.1429218781552  …  179.81275137064893\n",
       "  10.0                0.0                   0.0\n",
       "   0.0                0.0                   0.0\n",
       "   0.0                0.0                   0.0\n",
       "   0.0                0.0                   0.0\n",
       "   0.0                0.0              …    0.0)"
      ]
     },
     "metadata": {},
     "output_type": "display_data"
    }
   ],
   "source": [
    "resSP = UC.benders(instance, UC.risk_neutral, silent=false, force=1.0, S=10, batch=11, gap=0.1, timelimit=600)"
   ]
  },
  {
   "cell_type": "code",
   "execution_count": null,
   "id": "0a8e11f3",
   "metadata": {},
   "outputs": [],
   "source": [
    "resSP = UC.benders(instance, UC.risk_neutral, silent=false, force=1.0, S=10, batch=2, gap=0.1, timelimit=60)"
   ]
  },
  {
   "cell_type": "code",
   "execution_count": null,
   "id": "6d588908",
   "metadata": {},
   "outputs": [],
   "source": [
    "resKL = UC.benders(instance, UC.KL, UC.MODEL_A, silent=false, force=1.0, S=10, batch=2, gap=0.1, timelimit=120, ρ=0.8)"
   ]
  },
  {
   "cell_type": "code",
   "execution_count": 14,
   "id": "b6d1035b",
   "metadata": {},
   "outputs": [
    {
     "data": {
      "text/plain": [
       "(\"IEEE54\", 17385.42999999997, 1.5822462162372617e6, 1.664431822872258e6, 1.1607079594366618, [1.5852069339198025e6, 1.5750041278941568e6, 1.5866184650191735e6, 1.578830436374256e6, 1.580617048977148e6, 1.5912043555743338e6, 1.5770704105967265e6, 1.5823385936599812e6, 1.57044789290634e6, 1.5891204550073957e6  …  1.5718535750982487e6, 1.587963859839311e6, 1.5781883425103002e6, 1.5878619028334012e6, 1.5849019956400322e6, 1.582300656983069e6, 1.5918101284240216e6, 1.5857787851202427e6, 1.608774073054275e6, 1.581567289187461e6], [0.0, -2.206579363672745e-11, -1.5192824776022462e-10, -2.436070234423937e-10, -6.386824807701327e-11, 0.0, -5.925315793575692e-11, -1.0651279858109319e-10, 0.0, 5.588374102071243  …  -1.4609358167660957e-10, 1.231879802421912, -1.6655227197404088e-10, -2.6660673668743584e-11, 0.0, -2.4536261911123347e-11, 7.243098780102223, 0.0, 24.875167722095355, 0.0])"
      ]
     },
     "metadata": {},
     "output_type": "display_data"
    }
   ],
   "source": [
    "UC.test_out_of_sample(instance, resSP[5]; force=1.0)"
   ]
  },
  {
   "cell_type": "code",
   "execution_count": 21,
   "id": "fd30914c",
   "metadata": {},
   "outputs": [
    {
     "data": {
      "text/plain": [
       "(\"IEEE54\", 17435.909999999967, 1.5811132943762979e6, 1.6687864299128074e6, 0.5306599701567908, [1.5856968040471233e6, 1.574789801452823e6, 1.6052667548833333e6, 1.5786236838365688e6, 1.5805082517208331e6, 1.5967704116761144e6, 1.5769915269241866e6, 1.5821620777710597e6, 1.5702212409883663e6, 1.5871117388639578e6  …  1.5715538523908781e6, 1.5866522547674966e6, 1.57804921474508e6, 1.587730885021251e6, 1.5847299084681063e6, 1.5821793398438082e6, 1.5851478611643128e6, 1.5868972563701535e6, 1.6066384363151267e6, 1.581430794344473e6], [0.646725745899562, -7.552980463287895e-11, -4.045782434048835e-10, -3.148199839132378e-10, -3.309626053750055e-10, 5.912008979576434, 0.0, -2.53935566405615e-10, -4.840297052055575e-10, 3.7094213004508916  …  0.0, 0.0, 0.0, 0.0, 1.3217515970609384e-10, 0.0, 0.5193830027229396, 1.2863933828488294, 22.938107922727703, 0.0])"
      ]
     },
     "metadata": {},
     "output_type": "display_data"
    }
   ],
   "source": [
    "UC.test_out_of_sample(instance, resSP[5]; force=1.0)"
   ]
  },
  {
   "cell_type": "code",
   "execution_count": 10,
   "id": "b9b41313",
   "metadata": {},
   "outputs": [
    {
     "name": "stdout",
     "output_type": "stream",
     "text": [
      "OOS scenario 100/1000\n",
      "OOS scenario 200/1000\n",
      "OOS scenario 300/1000\n",
      "OOS scenario 400/1000\n",
      "OOS scenario 500/1000\n",
      "OOS scenario 600/1000\n",
      "OOS scenario 700/1000\n",
      "OOS scenario 800/1000\n",
      "OOS scenario 900/1000\n",
      "OOS scenario 1000/1000\n"
     ]
    },
    {
     "data": {
      "text/plain": [
       "(\"IEEE54\", 17417.949999999968, 1.5811094983371464e6, 1.6664116873938385e6, 2.1423397829727553, [1.5850369638527895e6, 1.5750247311835666e6, 1.6034472862485065e6, 1.5786462898106603e6, 1.580447186884114e6, 1.5973002805897351e6, 1.5769832921387954e6, 1.582138198399982e6, 1.5705020991105146e6, 1.587744931737849e6  …  1.5717920780210989e6, 1.586607826329335e6, 1.5780778612728822e6, 1.587648532968384e6, 1.5847045742253119e6, 1.5821672855975092e6, 1.5847162395905028e6, 1.5856270653187998e6, 1.605138034476528e6, 1.5814016043685975e6], [-2.5160540317870073e-11, -1.0572924097128475e-10, 29.684330778981213, -2.139188826077998e-11, 0.0, 6.486135120752186, -3.235060802363318e-11, -1.1593899671523326e-11, -3.230982109424371e-11, 4.283547441753171  …  -4.92810237062713e-11, -2.335676096976158e-11, -5.17523801590869e-11, -2.6200718677982238e-11, -4.1808778661334145e-12, -2.2816748490583905e-11, 0.0, -3.9372283211491776e-11, 21.38393958264291, -3.3850422465064867e-11])"
      ]
     },
     "metadata": {},
     "output_type": "display_data"
    }
   ],
   "source": [
    "UC.test_out_of_sample(instance, resBD1[5]; force=1.0)"
   ]
  },
  {
   "cell_type": "code",
   "execution_count": 48,
   "id": "09b4a816",
   "metadata": {},
   "outputs": [
    {
     "data": {
      "text/plain": [
       "(\"IEEE3\", 8386.0, 82632.85065614892, 114139.89641335132, 2.3332836347020605, [80179.05181596198, 81210.34823960988, 85351.2463034191, 80476.10248955642, 81003.90594185388, 81204.5886350593, 84154.6862842918, 81940.0214284385, 79768.60740202053, 82273.40977352085  …  84311.47965479869, 79970.41995514467, 80834.05588084758, 82099.8396992487, 79549.86177816814, 81067.2062994248, 82659.92407724405, 81238.0212702605, 81568.70894233644, 84911.97482130425], [-1.2537849596722523e-13, 0.8287671210884836, 5.287737756619229, -1.9184653865522705e-13, 0.22147064615236975, 0.0, 3.8854314261187, 2.1420356393924576, 0.016442021724216715, 2.6824172227662895  …  4.052870012861731, -8.526512829121202e-14, 0.0, 1.4325695407234564, -9.2579843284539e-14, 0.0, 2.495664683248002, 0.1495570588546542, 1.7470265695561693, 3.162793626244392])"
      ]
     },
     "metadata": {},
     "output_type": "display_data"
    }
   ],
   "source": [
    "UC.test_out_of_sample(instance, resROBD2[5]; force=1.0)"
   ]
  },
  {
   "cell_type": "code",
   "execution_count": 7,
   "id": "685c72b1",
   "metadata": {},
   "outputs": [
    {
     "name": "stdout",
     "output_type": "stream",
     "text": [
      "OOS scenario 100/1000\n",
      "OOS scenario 200/1000\n",
      "OOS scenario 300/1000\n",
      "OOS scenario 400/1000\n",
      "OOS scenario 500/1000\n",
      "OOS scenario 600/1000\n",
      "OOS scenario 700/1000\n",
      "OOS scenario 800/1000\n",
      "OOS scenario 900/1000\n",
      "OOS scenario 1000/1000\n"
     ]
    },
    {
     "data": {
      "text/plain": [
       "(\"IEEE3\", 8386.0, 82632.85065614874, 114139.8964133513, 2.3332836347019037, [80179.051815962, 81210.34823960964, 85351.24630341891, 80476.10248955642, 81003.90594185382, 81204.58863505912, 84154.68628429137, 81940.02142843846, 79768.60740202054, 82273.40977352075  …  84311.4796547986, 79970.41995514456, 80834.05588084721, 82099.83969924845, 79549.86177816792, 81067.20629942458, 82659.92407724372, 81238.02127026046, 81568.70894233625, 84911.97482130387], [-1.0085056072878658e-13, 0.8287671210882371, 5.287737756619055, -1.70597435670998e-13, 0.221470646152304, -1.8034608200562655e-13, 3.885431426118245, 2.1420356393924256, 0.016442021724202505, 2.682417222766162  …  4.052870012861675, -1.7460489670068497e-13, -2.5579538487363607e-13, 1.4325695407232217, -3.055333763768431e-13, -2.2246705538148532e-13, 2.4956646832476883, 0.14955705885456969, 1.7470265695560419, 3.1627936262440652])"
      ]
     },
     "metadata": {},
     "output_type": "display_data"
    }
   ],
   "source": [
    "UC.test_out_of_sample(instance, resROBD2[5]; force=1.0)"
   ]
  },
  {
   "cell_type": "code",
   "execution_count": null,
   "id": "1a121136",
   "metadata": {},
   "outputs": [],
   "source": [
    "exp(20)"
   ]
  },
  {
   "cell_type": "code",
   "execution_count": null,
   "id": "c5c8d4cf",
   "metadata": {},
   "outputs": [],
   "source": [
    "resAVAR = UC.benders(instance, UC.AVAR, silent=false, force=1.0, S=10, batch=21, gap=0.1, timelimit=120, ρ=0.95)"
   ]
  },
  {
   "cell_type": "code",
   "execution_count": null,
   "id": "7d1514e9",
   "metadata": {},
   "outputs": [],
   "source": [
    "S=10 \n",
    "resDRO2=UC.benders(instance, UC.DCA_l2, UC.MODEL_A, ρ = 1.5, silent=false, force=1.0, S=S, batch=2, gap=0.1, timelimit=130);"
   ]
  },
  {
   "cell_type": "code",
   "execution_count": null,
   "id": "3840452f",
   "metadata": {},
   "outputs": [],
   "source": [
    "resDRO2=UC.benders(instance, UC.Grb_l2, ρ = radius, silent=false, force=1.0, S=S, batch=2, gap=0.1, timelimit=30);"
   ]
  },
  {
   "cell_type": "code",
   "execution_count": null,
   "id": "77ad4f2a",
   "metadata": {},
   "outputs": [],
   "source": [
    "S=10\n",
    "resDca1=UC.benders(instance, UC.DCA_l1, ρ = 3000.0, silent=false, force=1.0, S=S, batch=2, gap=0.1, timelimit=100);"
   ]
  },
  {
   "cell_type": "code",
   "execution_count": null,
   "id": "bd6972b0",
   "metadata": {},
   "outputs": [],
   "source": [
    "UC.test_out_of_sample(instance, UC.MODEL_B, resDRO2[5]; force=1.0)"
   ]
  },
  {
   "cell_type": "code",
   "execution_count": null,
   "id": "bb699fd0",
   "metadata": {},
   "outputs": [],
   "source": [
    "UC.test_out_of_sample(instance, resAVAR[5]; force=1.0)"
   ]
  },
  {
   "cell_type": "code",
   "execution_count": null,
   "id": "b52458c0",
   "metadata": {},
   "outputs": [],
   "source": [
    "sol=resDca1\n",
    "T= instance.TimeHorizon\n",
    "N=instance.N\n",
    "N1=instance.N1\n",
    "N2 = N - N1\n",
    "batch=2\n",
    "s=2\n",
    "force = 1.0 \n",
    "λ_val = 16554.1017523152\n",
    "solution_x = [sol[5].is_on, sol[5].start_up, sol[5].start_down]\n",
    "Pmin, Pmax=UC.get_limit_power_solution_A(instance, solution_x)\n",
    "prod_tot_first_stage_val = sol[end]\n",
    "options1 = UC.DCA_l1\n",
    "oracle_pb=options1.oracle_problem(instance)\n",
    "@objective(oracle_pb, Max, sum(oracle_pb[:μₘᵢₙ][i,t]*Pmin[i,t] - oracle_pb[:μₘₐₓ][i,t]*Pmax[i,t] for i in 1:N2 for t in 1:T)+sum(oracle_pb[:network_cost][t] for t in 1:T))\n",
    "cost1 = options1.second_stage(instance, options1, oracle_pb, prod_tot_first_stage_val, Pmin, Pmax; λ=1e-2*λ_val, batch=batch, scenario=s, force=force)\n",
    "options2 = UC.Grb_l1\n",
    "oracle_pb=options2.oracle_problem(instance)\n",
    "@objective(oracle_pb, Max, sum(oracle_pb[:μₘᵢₙ][i,t]*Pmin[i,t] - oracle_pb[:μₘₐₓ][i,t]*Pmax[i,t] for i in 1:N2 for t in 1:T)+sum(oracle_pb[:network_cost][t] for t in 1:T))\n",
    "cost2 = options2.second_stage(instance, options2, oracle_pb, prod_tot_first_stage_val, Pmin, Pmax; λ=1e-2*λ_val, batch=batch, scenario=s, force=force)"
   ]
  },
  {
   "cell_type": "code",
   "execution_count": null,
   "id": "9d9a3245",
   "metadata": {},
   "outputs": [],
   "source": [
    "options2 = UC.risk_neutral\n",
    "oracle_pb=options2.oracle_problem(instance)\n",
    "@objective(oracle_pb, Max, sum(oracle_pb[:μₘᵢₙ][i,t]*Pmin[i,t] - oracle_pb[:μₘₐₓ][i,t]*Pmax[i,t] for i in 1:N2 for t in 1:T)+sum(oracle_pb[:network_cost][t] for t in 1:T))\n",
    "cost2 = options2.second_stage(instance, options2, oracle_pb, prod_tot_first_stage_val, Pmin, Pmax; λ=1e-2*λ_val, batch=batch, scenario=2, force=force)"
   ]
  },
  {
   "cell_type": "code",
   "execution_count": null,
   "id": "fadcda72",
   "metadata": {},
   "outputs": [],
   "source": [
    "prod_tot_first_stage_val[:,3]"
   ]
  },
  {
   "cell_type": "code",
   "execution_count": null,
   "id": "f333118c",
   "metadata": {},
   "outputs": [],
   "source": [
    "sum(cost1.objective_value), sum(cost2.objective_value)"
   ]
  },
  {
   "cell_type": "code",
   "execution_count": null,
   "id": "19d07513",
   "metadata": {},
   "outputs": [],
   "source": [
    "mat = cost1.ν"
   ]
  },
  {
   "cell_type": "code",
   "execution_count": null,
   "id": "5b0733da",
   "metadata": {},
   "outputs": [],
   "source": [
    "k=3\n",
    "idx_lin = partialsortperm(mat, 1:k, rev=true)\n",
    "\n",
    "# Conversion en indices 2D (ligne, colonne)\n",
    "idx_2d = CartesianIndices(mat)[idx_lin]"
   ]
  },
  {
   "cell_type": "code",
   "execution_count": null,
   "id": "33bb1313",
   "metadata": {},
   "outputs": [],
   "source": [
    "UC.compute_uncertainty_RO(instance; x0=cost1.ν, Γ=10)"
   ]
  },
  {
   "cell_type": "code",
   "execution_count": null,
   "id": "795fe414",
   "metadata": {},
   "outputs": [],
   "source": [
    "cost1.ν[instance.BusWind, :]"
   ]
  },
  {
   "cell_type": "code",
   "execution_count": null,
   "id": "938775ce",
   "metadata": {},
   "outputs": [],
   "source": [
    "# Exemple de matrice\n",
    "mat = abs.(cost1.ν)\n",
    "\n",
    "k = 3  # nombre de plus grands éléments\n",
    "\n",
    "# On travaille sur le vecteur aplati\n",
    "idx_lin = partialsortperm(vec(mat), 1:k; rev=true)\n",
    "\n",
    "# Conversion en indices 2D (ligne, colonne)\n",
    "idx_2d = CartesianIndices(mat)[idx_lin]\n",
    "\n",
    "# Valeurs correspondantes\n",
    "vals = vec(mat)[idx_lin]\n",
    "\n",
    "println(\"Indices 2D :\", collect(idx_2d))\n",
    "println(\"Valeurs    :\", vals)\n"
   ]
  },
  {
   "cell_type": "code",
   "execution_count": null,
   "id": "2f2261c2",
   "metadata": {},
   "outputs": [],
   "source": [
    "maximum(cost2.ν)"
   ]
  },
  {
   "cell_type": "code",
   "execution_count": null,
   "id": "d5952732",
   "metadata": {},
   "outputs": [],
   "source": [
    "resDca1[5].is_on"
   ]
  },
  {
   "cell_type": "code",
   "execution_count": null,
   "id": "e9817488",
   "metadata": {},
   "outputs": [],
   "source": [
    "A=[sum(instance.Demandbus[b][t] for b in 1:6) for t in 1:24]"
   ]
  },
  {
   "cell_type": "code",
   "execution_count": null,
   "id": "b2509da4",
   "metadata": {},
   "outputs": [],
   "source": [
    "B=[sum(prod_tot_first_stage_val[b,t] for b in 1:6) for t in 1:24]"
   ]
  },
  {
   "cell_type": "code",
   "execution_count": null,
   "id": "6c5ab06f",
   "metadata": {},
   "outputs": [],
   "source": [
    "[A[t]-B[t] for t in 1:24]"
   ]
  },
  {
   "cell_type": "code",
   "execution_count": null,
   "id": "bd05638b",
   "metadata": {},
   "outputs": [],
   "source": [
    "# si nécessaire, installer le paquet (décommenter la ligne)\n",
    "# using Pkg; Pkg.add(\"Distributions\")\n",
    "\n",
    "using Distributions\n",
    "\n",
    "function chi2_quantile(S::Int, α::Float64)\n",
    "    df = S - 1\n",
    "    dist = Chisq(df)\n",
    "    return quantile(dist, 1 - α)/(2)\n",
    "end"
   ]
  },
  {
   "cell_type": "code",
   "execution_count": null,
   "id": "4362e919",
   "metadata": {},
   "outputs": [],
   "source": [
    "chi2_quantile(10, 0.3)"
   ]
  },
  {
   "cell_type": "code",
   "execution_count": null,
   "id": "a830f1a9",
   "metadata": {},
   "outputs": [],
   "source": [
    "UC.compute_radius_KL(100, 0.999999999999999)"
   ]
  }
 ],
 "metadata": {
  "kernelspec": {
   "display_name": "Julia 1.11.5",
   "language": "julia",
   "name": "julia-1.11"
  },
  "language_info": {
   "file_extension": ".jl",
   "mimetype": "application/julia",
   "name": "julia",
   "version": "1.11.5"
  }
 },
 "nbformat": 4,
 "nbformat_minor": 5
}
